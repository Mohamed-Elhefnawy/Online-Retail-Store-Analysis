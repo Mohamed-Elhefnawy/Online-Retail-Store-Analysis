{
 "cells": [
  {
   "cell_type": "markdown",
   "id": "96262158",
   "metadata": {},
   "source": [
    "# Project: Online Retail Store\n",
    "\n",
    "## Table of Contents\n",
    "<ul>\n",
    "<li><a href=\"#intro\">Introduction</a></li>\n",
    "<li><a href=\"#wrangling\">Data Wrangling</a></li>\n",
    "<li><a href=\"#Questions for Analysis\">Questions for Analysis</a></li>\n",
    "<li><a href=\"#Data Visualization\">Data Visualization</a></li>\n",
    "<li><a href=\"#conclusions\">Conclusion</a></li>\n",
    "</ul>"
   ]
  },
  {
   "cell_type": "markdown",
   "id": "8a2daaac",
   "metadata": {},
   "source": [
    "<a id='intro'></a>\n",
    "## Introduction\n",
    "\n",
    "### Project Description \n",
    "\n",
    "An online retail store has needed to review their data and provide insights that would be valuable to the CEO and CMO of the business. The business has been performing well and the management wants to analyze what the major contributing factors are in the revenue so they can strategically plan for next year.\n",
    "\n",
    "The leadership is interested in viewing the metrics from both an operations and marketing perspective. Management also intends to expand the business and is interested in seeking guidance into areas that are performing well so they can keep a clear focus on what’s working. They would also like to view different metrics based on the demographic information that is available in the data.\n",
    "\n",
    "Note: Stakeholders don't need \"UK\" in their analysis\n",
    "\n",
    "\n"
   ]
  },
  {
   "cell_type": "markdown",
   "id": "4e31cbbf",
   "metadata": {},
   "source": [
    "<a id='wrangling'></a>\n",
    "## Data Wrangling\n",
    "\n",
    "\n",
    "\n",
    "### General Properties\n",
    "\n",
    "Let's explore the dataset to know its properties"
   ]
  },
  {
   "cell_type": "code",
   "execution_count": 42,
   "id": "0a7c0d3d",
   "metadata": {},
   "outputs": [],
   "source": [
    "#Importing the needed packages\n",
    "import pandas as pd "
   ]
  },
  {
   "cell_type": "code",
   "execution_count": 43,
   "id": "f1dc4c83",
   "metadata": {},
   "outputs": [],
   "source": [
    "#Reading our database\n",
    "df= pd.read_excel('Online Retail.xlsx')"
   ]
  },
  {
   "cell_type": "code",
   "execution_count": 44,
   "id": "0b1cb99e",
   "metadata": {},
   "outputs": [
    {
     "data": {
      "text/html": [
       "<div>\n",
       "<style scoped>\n",
       "    .dataframe tbody tr th:only-of-type {\n",
       "        vertical-align: middle;\n",
       "    }\n",
       "\n",
       "    .dataframe tbody tr th {\n",
       "        vertical-align: top;\n",
       "    }\n",
       "\n",
       "    .dataframe thead th {\n",
       "        text-align: right;\n",
       "    }\n",
       "</style>\n",
       "<table border=\"1\" class=\"dataframe\">\n",
       "  <thead>\n",
       "    <tr style=\"text-align: right;\">\n",
       "      <th></th>\n",
       "      <th>InvoiceNo</th>\n",
       "      <th>StockCode</th>\n",
       "      <th>Description</th>\n",
       "      <th>Quantity</th>\n",
       "      <th>UnitPrice</th>\n",
       "      <th>Total</th>\n",
       "      <th>InvoiceDate</th>\n",
       "      <th>CustomerID</th>\n",
       "      <th>Country</th>\n",
       "    </tr>\n",
       "  </thead>\n",
       "  <tbody>\n",
       "    <tr>\n",
       "      <th>0</th>\n",
       "      <td>536365</td>\n",
       "      <td>85123A</td>\n",
       "      <td>WHITE HANGING HEART T-LIGHT HOLDER</td>\n",
       "      <td>6</td>\n",
       "      <td>2.55</td>\n",
       "      <td>15.30</td>\n",
       "      <td>2010-12-01 08:26:00</td>\n",
       "      <td>17850.0</td>\n",
       "      <td>United Kingdom</td>\n",
       "    </tr>\n",
       "    <tr>\n",
       "      <th>1</th>\n",
       "      <td>536365</td>\n",
       "      <td>71053</td>\n",
       "      <td>WHITE METAL LANTERN</td>\n",
       "      <td>6</td>\n",
       "      <td>3.39</td>\n",
       "      <td>20.34</td>\n",
       "      <td>2010-12-01 08:26:00</td>\n",
       "      <td>17850.0</td>\n",
       "      <td>United Kingdom</td>\n",
       "    </tr>\n",
       "    <tr>\n",
       "      <th>2</th>\n",
       "      <td>536365</td>\n",
       "      <td>84406B</td>\n",
       "      <td>CREAM CUPID HEARTS COAT HANGER</td>\n",
       "      <td>8</td>\n",
       "      <td>2.75</td>\n",
       "      <td>22.00</td>\n",
       "      <td>2010-12-01 08:26:00</td>\n",
       "      <td>17850.0</td>\n",
       "      <td>United Kingdom</td>\n",
       "    </tr>\n",
       "    <tr>\n",
       "      <th>3</th>\n",
       "      <td>536365</td>\n",
       "      <td>84029G</td>\n",
       "      <td>KNITTED UNION FLAG HOT WATER BOTTLE</td>\n",
       "      <td>6</td>\n",
       "      <td>3.39</td>\n",
       "      <td>20.34</td>\n",
       "      <td>2010-12-01 08:26:00</td>\n",
       "      <td>17850.0</td>\n",
       "      <td>United Kingdom</td>\n",
       "    </tr>\n",
       "    <tr>\n",
       "      <th>4</th>\n",
       "      <td>536365</td>\n",
       "      <td>84029E</td>\n",
       "      <td>RED WOOLLY HOTTIE WHITE HEART.</td>\n",
       "      <td>6</td>\n",
       "      <td>3.39</td>\n",
       "      <td>20.34</td>\n",
       "      <td>2010-12-01 08:26:00</td>\n",
       "      <td>17850.0</td>\n",
       "      <td>United Kingdom</td>\n",
       "    </tr>\n",
       "  </tbody>\n",
       "</table>\n",
       "</div>"
      ],
      "text/plain": [
       "  InvoiceNo StockCode                          Description  Quantity  \\\n",
       "0    536365    85123A   WHITE HANGING HEART T-LIGHT HOLDER         6   \n",
       "1    536365     71053                  WHITE METAL LANTERN         6   \n",
       "2    536365    84406B       CREAM CUPID HEARTS COAT HANGER         8   \n",
       "3    536365    84029G  KNITTED UNION FLAG HOT WATER BOTTLE         6   \n",
       "4    536365    84029E       RED WOOLLY HOTTIE WHITE HEART.         6   \n",
       "\n",
       "   UnitPrice  Total         InvoiceDate  CustomerID         Country  \n",
       "0       2.55  15.30 2010-12-01 08:26:00     17850.0  United Kingdom  \n",
       "1       3.39  20.34 2010-12-01 08:26:00     17850.0  United Kingdom  \n",
       "2       2.75  22.00 2010-12-01 08:26:00     17850.0  United Kingdom  \n",
       "3       3.39  20.34 2010-12-01 08:26:00     17850.0  United Kingdom  \n",
       "4       3.39  20.34 2010-12-01 08:26:00     17850.0  United Kingdom  "
      ]
     },
     "execution_count": 44,
     "metadata": {},
     "output_type": "execute_result"
    }
   ],
   "source": [
    "df.head()"
   ]
  },
  {
   "cell_type": "code",
   "execution_count": 45,
   "id": "19858c05",
   "metadata": {},
   "outputs": [
    {
     "data": {
      "text/plain": [
       "(541909, 9)"
      ]
     },
     "execution_count": 45,
     "metadata": {},
     "output_type": "execute_result"
    }
   ],
   "source": [
    "#Showing the shape of the dastaset\n",
    "df.shape"
   ]
  },
  {
   "cell_type": "code",
   "execution_count": 46,
   "id": "8c70b645",
   "metadata": {},
   "outputs": [
    {
     "data": {
      "text/html": [
       "<div>\n",
       "<style scoped>\n",
       "    .dataframe tbody tr th:only-of-type {\n",
       "        vertical-align: middle;\n",
       "    }\n",
       "\n",
       "    .dataframe tbody tr th {\n",
       "        vertical-align: top;\n",
       "    }\n",
       "\n",
       "    .dataframe thead th {\n",
       "        text-align: right;\n",
       "    }\n",
       "</style>\n",
       "<table border=\"1\" class=\"dataframe\">\n",
       "  <thead>\n",
       "    <tr style=\"text-align: right;\">\n",
       "      <th></th>\n",
       "      <th>Quantity</th>\n",
       "      <th>UnitPrice</th>\n",
       "      <th>Total</th>\n",
       "      <th>CustomerID</th>\n",
       "    </tr>\n",
       "  </thead>\n",
       "  <tbody>\n",
       "    <tr>\n",
       "      <th>count</th>\n",
       "      <td>541909.000000</td>\n",
       "      <td>541909.000000</td>\n",
       "      <td>541909.000000</td>\n",
       "      <td>406829.000000</td>\n",
       "    </tr>\n",
       "    <tr>\n",
       "      <th>mean</th>\n",
       "      <td>9.552250</td>\n",
       "      <td>4.611114</td>\n",
       "      <td>17.987795</td>\n",
       "      <td>15287.690570</td>\n",
       "    </tr>\n",
       "    <tr>\n",
       "      <th>std</th>\n",
       "      <td>218.081158</td>\n",
       "      <td>96.759853</td>\n",
       "      <td>378.810824</td>\n",
       "      <td>1713.600303</td>\n",
       "    </tr>\n",
       "    <tr>\n",
       "      <th>min</th>\n",
       "      <td>-80995.000000</td>\n",
       "      <td>-11062.060000</td>\n",
       "      <td>-168469.600000</td>\n",
       "      <td>12346.000000</td>\n",
       "    </tr>\n",
       "    <tr>\n",
       "      <th>25%</th>\n",
       "      <td>1.000000</td>\n",
       "      <td>1.250000</td>\n",
       "      <td>3.400000</td>\n",
       "      <td>13953.000000</td>\n",
       "    </tr>\n",
       "    <tr>\n",
       "      <th>50%</th>\n",
       "      <td>3.000000</td>\n",
       "      <td>2.080000</td>\n",
       "      <td>9.750000</td>\n",
       "      <td>15152.000000</td>\n",
       "    </tr>\n",
       "    <tr>\n",
       "      <th>75%</th>\n",
       "      <td>10.000000</td>\n",
       "      <td>4.130000</td>\n",
       "      <td>17.400000</td>\n",
       "      <td>16791.000000</td>\n",
       "    </tr>\n",
       "    <tr>\n",
       "      <th>max</th>\n",
       "      <td>80995.000000</td>\n",
       "      <td>38970.000000</td>\n",
       "      <td>168469.600000</td>\n",
       "      <td>18287.000000</td>\n",
       "    </tr>\n",
       "  </tbody>\n",
       "</table>\n",
       "</div>"
      ],
      "text/plain": [
       "            Quantity      UnitPrice          Total     CustomerID\n",
       "count  541909.000000  541909.000000  541909.000000  406829.000000\n",
       "mean        9.552250       4.611114      17.987795   15287.690570\n",
       "std       218.081158      96.759853     378.810824    1713.600303\n",
       "min    -80995.000000  -11062.060000 -168469.600000   12346.000000\n",
       "25%         1.000000       1.250000       3.400000   13953.000000\n",
       "50%         3.000000       2.080000       9.750000   15152.000000\n",
       "75%        10.000000       4.130000      17.400000   16791.000000\n",
       "max     80995.000000   38970.000000  168469.600000   18287.000000"
      ]
     },
     "execution_count": 46,
     "metadata": {},
     "output_type": "execute_result"
    }
   ],
   "source": [
    "#Showing some descriptive statistics about the dataset\n",
    "df.describe()"
   ]
  },
  {
   "cell_type": "code",
   "execution_count": 47,
   "id": "afd0f2f8",
   "metadata": {},
   "outputs": [
    {
     "name": "stdout",
     "output_type": "stream",
     "text": [
      "<class 'pandas.core.frame.DataFrame'>\n",
      "RangeIndex: 541909 entries, 0 to 541908\n",
      "Data columns (total 9 columns):\n",
      " #   Column       Non-Null Count   Dtype         \n",
      "---  ------       --------------   -----         \n",
      " 0   InvoiceNo    541909 non-null  object        \n",
      " 1   StockCode    541909 non-null  object        \n",
      " 2   Description  540455 non-null  object        \n",
      " 3   Quantity     541909 non-null  int64         \n",
      " 4   UnitPrice    541909 non-null  float64       \n",
      " 5   Total        541909 non-null  float64       \n",
      " 6   InvoiceDate  541909 non-null  datetime64[ns]\n",
      " 7   CustomerID   406829 non-null  float64       \n",
      " 8   Country      541909 non-null  object        \n",
      "dtypes: datetime64[ns](1), float64(3), int64(1), object(4)\n",
      "memory usage: 37.2+ MB\n"
     ]
    }
   ],
   "source": [
    "#Showing info about the dataset\n",
    "df.info()"
   ]
  },
  {
   "cell_type": "code",
   "execution_count": 48,
   "id": "ab776adb",
   "metadata": {},
   "outputs": [
    {
     "data": {
      "text/plain": [
       "InvoiceNo           0\n",
       "StockCode           0\n",
       "Description      1454\n",
       "Quantity            0\n",
       "UnitPrice           0\n",
       "Total               0\n",
       "InvoiceDate         0\n",
       "CustomerID     135080\n",
       "Country             0\n",
       "dtype: int64"
      ]
     },
     "execution_count": 48,
     "metadata": {},
     "output_type": "execute_result"
    }
   ],
   "source": [
    "#Count NULL values in the columns\n",
    "df.isnull().sum()"
   ]
  },
  {
   "cell_type": "code",
   "execution_count": 49,
   "id": "798b368d",
   "metadata": {},
   "outputs": [
    {
     "data": {
      "text/plain": [
       "5268"
      ]
     },
     "execution_count": 49,
     "metadata": {},
     "output_type": "execute_result"
    }
   ],
   "source": [
    "#Count the duplicated rows\n",
    "df.duplicated().sum()"
   ]
  },
  {
   "cell_type": "markdown",
   "id": "bff666c9",
   "metadata": {},
   "source": [
    "### Data Cleaning\n",
    "It's the time to clean our dataset "
   ]
  },
  {
   "cell_type": "code",
   "execution_count": 50,
   "id": "bc4a7538",
   "metadata": {},
   "outputs": [
    {
     "data": {
      "text/plain": [
       "0"
      ]
     },
     "execution_count": 50,
     "metadata": {},
     "output_type": "execute_result"
    }
   ],
   "source": [
    "#Dropping the duplicates\n",
    "df.drop_duplicates(inplace=True)\n",
    "df.duplicated().sum()"
   ]
  },
  {
   "cell_type": "markdown",
   "id": "e852df73",
   "metadata": {},
   "source": [
    "We have 5268 duplicates in our data set so we dropped them."
   ]
  },
  {
   "cell_type": "code",
   "execution_count": 51,
   "id": "2dff4e16",
   "metadata": {},
   "outputs": [
    {
     "name": "stdout",
     "output_type": "stream",
     "text": [
      "<class 'pandas.core.frame.DataFrame'>\n",
      "Int64Index: 536641 entries, 0 to 541908\n",
      "Data columns (total 9 columns):\n",
      " #   Column       Non-Null Count   Dtype         \n",
      "---  ------       --------------   -----         \n",
      " 0   InvoiceNo    536641 non-null  object        \n",
      " 1   StockCode    536641 non-null  object        \n",
      " 2   Description  535187 non-null  object        \n",
      " 3   Quantity     536641 non-null  int64         \n",
      " 4   UnitPrice    536641 non-null  float64       \n",
      " 5   Total        536641 non-null  float64       \n",
      " 6   InvoiceDate  536641 non-null  datetime64[ns]\n",
      " 7   CustomerID   536641 non-null  object        \n",
      " 8   Country      536641 non-null  object        \n",
      "dtypes: datetime64[ns](1), float64(2), int64(1), object(5)\n",
      "memory usage: 40.9+ MB\n"
     ]
    }
   ],
   "source": [
    "#Changing wrong datatype\n",
    "df['CustomerID']= df['CustomerID'].astype(str)\n",
    "df.info()"
   ]
  },
  {
   "cell_type": "markdown",
   "id": "390ac34d",
   "metadata": {},
   "source": [
    "The CustomerID column was float, and we won't make any calculations on it, so we changed it to string."
   ]
  },
  {
   "cell_type": "code",
   "execution_count": 52,
   "id": "f878fa98",
   "metadata": {},
   "outputs": [],
   "source": [
    "#Dropping quanities less than 1\n",
    "df.drop(df[df['Quantity'] <= 1].index, inplace = True)"
   ]
  },
  {
   "cell_type": "markdown",
   "id": "da089d23",
   "metadata": {},
   "source": [
    "There are some negative values in the \"Quantity\" column, so we decided to drop them."
   ]
  },
  {
   "cell_type": "code",
   "execution_count": 53,
   "id": "5f4c3010",
   "metadata": {},
   "outputs": [],
   "source": [
    "#Dropping unit prices less than 0\n",
    "df.drop(df[df['UnitPrice'] <= 0].index, inplace = True)"
   ]
  },
  {
   "cell_type": "markdown",
   "id": "668690a5",
   "metadata": {},
   "source": [
    "There are some negative values in the \"UnitPrice\" column, so we decided to drop them."
   ]
  },
  {
   "cell_type": "code",
   "execution_count": 54,
   "id": "9fcc90e9",
   "metadata": {},
   "outputs": [],
   "source": [
    "#Dropping Totals less than 0\n",
    "df.drop(df[df['Total'] <= 0].index, inplace = True)"
   ]
  },
  {
   "cell_type": "markdown",
   "id": "73c5e5ec",
   "metadata": {},
   "source": [
    "There are some negative values in the \"Total\" column, so we decided to drop them."
   ]
  },
  {
   "cell_type": "code",
   "execution_count": 57,
   "id": "965ec06c",
   "metadata": {},
   "outputs": [
    {
     "data": {
      "text/html": [
       "<div>\n",
       "<style scoped>\n",
       "    .dataframe tbody tr th:only-of-type {\n",
       "        vertical-align: middle;\n",
       "    }\n",
       "\n",
       "    .dataframe tbody tr th {\n",
       "        vertical-align: top;\n",
       "    }\n",
       "\n",
       "    .dataframe thead th {\n",
       "        text-align: right;\n",
       "    }\n",
       "</style>\n",
       "<table border=\"1\" class=\"dataframe\">\n",
       "  <thead>\n",
       "    <tr style=\"text-align: right;\">\n",
       "      <th></th>\n",
       "      <th>Quantity</th>\n",
       "      <th>UnitPrice</th>\n",
       "      <th>Total</th>\n",
       "    </tr>\n",
       "  </thead>\n",
       "  <tbody>\n",
       "    <tr>\n",
       "      <th>count</th>\n",
       "      <td>380783.000000</td>\n",
       "      <td>380783.000000</td>\n",
       "      <td>380783.000000</td>\n",
       "    </tr>\n",
       "    <tr>\n",
       "      <th>mean</th>\n",
       "      <td>14.255692</td>\n",
       "      <td>2.791756</td>\n",
       "      <td>25.332780</td>\n",
       "    </tr>\n",
       "    <tr>\n",
       "      <th>std</th>\n",
       "      <td>183.350748</td>\n",
       "      <td>3.419901</td>\n",
       "      <td>316.036046</td>\n",
       "    </tr>\n",
       "    <tr>\n",
       "      <th>min</th>\n",
       "      <td>2.000000</td>\n",
       "      <td>0.040000</td>\n",
       "      <td>0.120000</td>\n",
       "    </tr>\n",
       "    <tr>\n",
       "      <th>25%</th>\n",
       "      <td>3.000000</td>\n",
       "      <td>1.250000</td>\n",
       "      <td>6.720000</td>\n",
       "    </tr>\n",
       "    <tr>\n",
       "      <th>50%</th>\n",
       "      <td>6.000000</td>\n",
       "      <td>1.790000</td>\n",
       "      <td>14.850000</td>\n",
       "    </tr>\n",
       "    <tr>\n",
       "      <th>75%</th>\n",
       "      <td>12.000000</td>\n",
       "      <td>3.750000</td>\n",
       "      <td>20.400000</td>\n",
       "    </tr>\n",
       "    <tr>\n",
       "      <th>max</th>\n",
       "      <td>80995.000000</td>\n",
       "      <td>649.500000</td>\n",
       "      <td>168469.600000</td>\n",
       "    </tr>\n",
       "  </tbody>\n",
       "</table>\n",
       "</div>"
      ],
      "text/plain": [
       "            Quantity      UnitPrice          Total\n",
       "count  380783.000000  380783.000000  380783.000000\n",
       "mean       14.255692       2.791756      25.332780\n",
       "std       183.350748       3.419901     316.036046\n",
       "min         2.000000       0.040000       0.120000\n",
       "25%         3.000000       1.250000       6.720000\n",
       "50%         6.000000       1.790000      14.850000\n",
       "75%        12.000000       3.750000      20.400000\n",
       "max     80995.000000     649.500000  168469.600000"
      ]
     },
     "execution_count": 57,
     "metadata": {},
     "output_type": "execute_result"
    }
   ],
   "source": [
    "#Showing some descriptive statistics about the dataset after dropping\n",
    "df.describe()"
   ]
  },
  {
   "cell_type": "code",
   "execution_count": 58,
   "id": "5d15e16f",
   "metadata": {},
   "outputs": [],
   "source": [
    "#Save the dataset after the cleaning phase\n",
    "df.to_excel('Online Retail.xlsx')"
   ]
  },
  {
   "cell_type": "markdown",
   "id": "6ea5cde4",
   "metadata": {},
   "source": [
    "<a id='Questions for Analysis'></a>\n",
    "## Questions for Analysis\n",
    "1- What is the highest and the lowest countries' sales performance?    \n",
    "2- What is the country's revenue performance?                                                                                         \n",
    "3- Is there any sales trends over the months of the year in different countries?                                                                \n",
    "4- How does the product perform in different countries?                                                                                       \n",
    "5- Does the sold quantity of a product affects its revenue?"
   ]
  },
  {
   "cell_type": "markdown",
   "id": "e275d09a",
   "metadata": {},
   "source": [
    "<a id='Data Visualization'></a>\n",
    "## Data Visualization\n",
    "#### Power BI Report Link:\n",
    "https://www.novypro.com/project/data-visualization-project-"
   ]
  },
  {
   "cell_type": "markdown",
   "id": "6a1a7638",
   "metadata": {},
   "source": [
    "<a id='conclusions'></a>\n",
    "## Conclusion\n",
    "\n",
    "- From Question(1): The top 5 countries which are performing well in sales are Netherlands, Eire, Germany, France and Australia, so they can expand their business in these countries.\n",
    "- From Question(2): The median of the country's revenue is 17.7 Million dollars, so as they said their business is performing well, and the top 5 countries in revenue are the same as the countries performing well in sales.\n",
    "- From Question(3): The trends time is different between the countries, so depending on each country the stakeholders can take decisions to prepare their stores in trends time.\n",
    "- From Question(4): There are some products which bring high revenue such as the products with stock codes \"Post\" and \"23084\", on another hand There are some products bring very low revenue such as the products with stock codes \"21306\" and \"21034\", so they should enhance their products with lower revenue, in addition to they should care about their marketing, and keep the quality of the products which bring high revenue.\n",
    "- From Question(5): There is a positive correlation between the sold quantity of a product and its revenue, so they should care about selling more quantity of the products.\n",
    "\n",
    "\n",
    "### Limitations\n",
    "     \n",
    "After our analysis, We didn't observe any problem that totally obstructs our analysis. Even the NULL values that we found on the \"Description\" and \"CustomerID\" columns didn't affect our analysis. But we faced a single challenge which is:            \n",
    "There are some negative values in \"Quantity\", \"UnitPrice\" and \"Total\" columns, so we decided to drop them and this affect the perfectionism of our analysis.                                                                                               \n",
    "                                                                                                                              "
   ]
  }
 ],
 "metadata": {
  "kernelspec": {
   "display_name": "Python 3 (ipykernel)",
   "language": "python",
   "name": "python3"
  },
  "language_info": {
   "codemirror_mode": {
    "name": "ipython",
    "version": 3
   },
   "file_extension": ".py",
   "mimetype": "text/x-python",
   "name": "python",
   "nbconvert_exporter": "python",
   "pygments_lexer": "ipython3",
   "version": "3.9.12"
  }
 },
 "nbformat": 4,
 "nbformat_minor": 5
}
